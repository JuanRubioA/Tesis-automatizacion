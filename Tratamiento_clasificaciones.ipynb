{
  "nbformat": 4,
  "nbformat_minor": 0,
  "metadata": {
    "colab": {
      "name": "Tratamiento clasificaciones.ipynb",
      "private_outputs": true,
      "provenance": [],
      "toc_visible": true
    },
    "kernelspec": {
      "name": "python3",
      "display_name": "Python 3"
    },
    "language_info": {
      "name": "python"
    }
  },
  "cells": [
    {
      "cell_type": "markdown",
      "metadata": {
        "id": "Z1gwkA_VeM2q"
      },
      "source": [
        "**Tratamiento de datos de las clasificaciones y alistamiento de DataFrame's**"
      ]
    },
    {
      "cell_type": "code",
      "metadata": {
        "id": "Q58Tb6NvmjsT"
      },
      "source": [
        "from google.colab import drive\n",
        "drive.mount('/content/drive/')"
      ],
      "execution_count": null,
      "outputs": []
    },
    {
      "cell_type": "code",
      "metadata": {
        "id": "HbPznSXupcMf"
      },
      "source": [
        "import pandas as pd\n",
        "import numpy as np\n",
        "import matplotlib.pyplot as plt\n",
        "import sys\n",
        "import warnings\n",
        "from google.colab import files\n",
        "import io\n",
        "\n",
        "if not sys.warnoptions:\n",
        "  warnings.simplefilter(\"ignore\")"
      ],
      "execution_count": null,
      "outputs": []
    },
    {
      "cell_type": "code",
      "metadata": {
        "id": "tMHpMz6SppCq"
      },
      "source": [
        "# 1. Base de Vacantes\n",
        "#vacantes = pd.read_csv('vacantes final 2.csv', encoding='utf8', error_bad_lines=False)\n",
        "#vacantes = pd.read_csv('/content/drive/MyDrive/Datos/vacantes.pkl', encoding='latin-1', error_bad_lines=False)\n",
        "vacantes = pd.read_pickle('/content/drive/MyDrive/Datos/vacantes.pkl')\n",
        "# 2. Base de Clasificaciones\n",
        "#clasificacion = pd.read_csv('Occupation Data Translations.txt', encoding='utf8', error_bad_lines=False)\n",
        "#clasificacion = pd.read_csv('/content/drive/MyDrive/Datos/clasificacion.pkl', encoding='utf8', error_bad_lines=False)\n",
        "clasificacion = pd.read_pickle('/content/drive/MyDrive/Datos/classification.pkl')"
      ],
      "execution_count": null,
      "outputs": []
    },
    {
      "cell_type": "markdown",
      "metadata": {
        "id": "hGpoquHk4-OQ"
      },
      "source": [
        ""
      ]
    },
    {
      "cell_type": "code",
      "metadata": {
        "id": "Joxn7QH7EVYo"
      },
      "source": [
        "df = vacantes\n",
        "#df2 = clasificacion"
      ],
      "execution_count": null,
      "outputs": []
    },
    {
      "cell_type": "code",
      "metadata": {
        "id": "5mH6ygV3sAjh"
      },
      "source": [
        "print('Número de vacantes:',vacantes['id'].nunique())\n",
        "print('Número de ocupaciones:',clasificacion['codigo'].nunique())"
      ],
      "execution_count": null,
      "outputs": []
    },
    {
      "cell_type": "code",
      "metadata": {
        "id": "-bPQUzpe4FJV"
      },
      "source": [
        "df2 = clasificacion[['codigo','descripcion5','titulo5']]\n",
        "df2.columns = ['id', 'descripcion', 'titulo']"
      ],
      "execution_count": null,
      "outputs": []
    },
    {
      "cell_type": "code",
      "metadata": {
        "id": "Q2lYCdsj1wd5"
      },
      "source": [
        "df2.head()"
      ],
      "execution_count": null,
      "outputs": []
    },
    {
      "cell_type": "code",
      "metadata": {
        "id": "EuxeVMdwIFoG"
      },
      "source": [
        "# Importar librerías para la limpieza de los datos\n",
        "import pickle\n",
        "import pandas as pd\n",
        "import re\n",
        "import nltk\n",
        "from nltk.corpus import stopwords\n",
        "from nltk.stem import WordNetLemmatizer\n",
        "from sklearn.feature_extraction.text import TfidfVectorizer\n",
        "from sklearn.model_selection import train_test_split\n",
        "from sklearn.feature_selection import chi2\n",
        "import numpy as np"
      ],
      "execution_count": null,
      "outputs": []
    },
    {
      "cell_type": "code",
      "metadata": {
        "id": "CH9y3jfouvbo"
      },
      "source": [
        "#df['descripcion'] = df['descripcion'].astype(str)\n",
        "#df['titulo'] = df['titulo'].astype(str)\n",
        "#df2['titulo'] = df2['titulo'].astype(str)\n",
        "#df2['descripcion'] = df2['descripcion'].astype(str)"
      ],
      "execution_count": null,
      "outputs": []
    },
    {
      "cell_type": "code",
      "metadata": {
        "scrolled": true,
        "id": "TLHauUEjIFoH"
      },
      "source": [
        "# Limpieza de caracteres especiales\n",
        "\n",
        "df['Content_Parsed_1'] = df['descripcion'].str.replace(\"\\r\", \" \")\n",
        "df['Content_Parsed_1'] = df['Content_Parsed_1'].str.replace(\"\\n\", \" \")\n",
        "df['Content_Parsed_1'] = df['Content_Parsed_1'].str.replace(\"Ã³\", \"o\")\n",
        "df['Content_Parsed_1'] = df['Content_Parsed_1'].str.replace(\"Ã¡\", \"a\")\n",
        "df['Content_Parsed_1'] = df['Content_Parsed_1'].str.replace(\"Ã©\", \"e\")\n",
        "df['Content_Parsed_1'] = df['Content_Parsed_1'].str.replace(\"Ãº\", \"u\")\n",
        "df['Content_Parsed_1'] = df['Content_Parsed_1'].str.replace(\"Ã±\", \"ñ\")\n",
        "df['Content_Parsed_1'] = df['Content_Parsed_1'].str.replace(\"Ã-\", \"I\")\n",
        "df['Content_Parsed_1'] = df['Content_Parsed_1'].str.replace(\"Ã\", \"i\")\n",
        "\n",
        "df['Content_Parsed_21'] = df['titulo'].str.replace(\"\\r\", \" \")\n",
        "df['Content_Parsed_21'] = df['Content_Parsed_21'].str.replace(\"\\n\", \" \")\n",
        "df['Content_Parsed_21'] = df['Content_Parsed_21'].str.replace(\"Ã³\", \"o\")\n",
        "df['Content_Parsed_21'] = df['Content_Parsed_21'].str.replace(\"Ã¡\", \"a\")\n",
        "df['Content_Parsed_21'] = df['Content_Parsed_21'].str.replace(\"Ã©\", \"e\")\n",
        "df['Content_Parsed_21'] = df['Content_Parsed_21'].str.replace(\"Ãº\", \"u\")\n",
        "df['Content_Parsed_21'] = df['Content_Parsed_21'].str.replace(\"Ã±\", \"ñ\")\n",
        "df['Content_Parsed_21'] = df['Content_Parsed_21'].str.replace(\"Ã-\", \"I\")\n",
        "df['Content_Parsed_21'] = df['Content_Parsed_21'].str.replace(\"Ã\", \"i\")\n"
      ],
      "execution_count": null,
      "outputs": []
    },
    {
      "cell_type": "code",
      "metadata": {
        "id": "glTQmJD08ju1"
      },
      "source": [
        "'''# Limpieza de caracteres especiales\n",
        "df2['descripcion'] = df2['descripcion1'].str.replace(\"\\r\", \" \")\n",
        "df2['descripcion'] = df2['descripcion'].str.replace(\"\\n\", \" \")\n",
        "df2['descripcion'] = df2['descripcion'].str.replace(\"Ã³\", \"o\")\n",
        "df2['descripcion'] = df2['descripcion'].str.replace(\"Ã¡\", \"a\")\n",
        "df2['descripcion'] = df2['descripcion'].str.replace(\"Ã©\", \"e\")\n",
        "df2['descripcion'] = df2['descripcion'].str.replace(\"Ãº\", \"u\")\n",
        "df2['descripcion'] = df2['descripcion'].str.replace(\"Ã±\", \"ñ\")\n",
        "df2['descripcion'] = df2['descripcion'].str.replace(\"Ã-\", \"I\")\n",
        "df2['descripcion'] = df2['descripcion'].str.replace(\"Ã\", \"i\")\n",
        "\n",
        "df2['titulo'] = df2['titulo1'].str.replace(\"\\r\", \" \")\n",
        "df2['titulo'] = df2['titulo'].str.replace(\"\\n\", \" \")\n",
        "df2['titulo'] = df2['titulo'].str.replace(\"Ã³\", \"o\")\n",
        "df2['titulo'] = df2['titulo'].str.replace(\"Ã¡\", \"a\")\n",
        "df2['titulo'] = df2['titulo'].str.replace(\"Ã©\", \"e\")\n",
        "df2['titulo'] = df2['titulo'].str.replace(\"Ãº\", \"u\")\n",
        "df2['titulo'] = df2['titulo'].str.replace(\"Ã±\", \"ñ\")\n",
        "df2['titulo'] = df2['titulo'].str.replace(\"Ã-\", \"I\")\n",
        "df2['titulo'] = df2['titulo'].str.replace(\"Ã\", \"i\")'''"
      ],
      "execution_count": null,
      "outputs": []
    },
    {
      "cell_type": "code",
      "metadata": {
        "id": "STZSUddfIFoI"
      },
      "source": [
        "# Todo el texto en minúscula\n",
        "df['Content_Parsed_2'] = df['Content_Parsed_1'].str.lower()\n",
        "df['titulo2'] = df['Content_Parsed_21'].str.lower()\n",
        "'''df2['descripcion2'] = df2['descripcion'].str.lower\n",
        "df2['titulo2'] = df2['titulo'].str.lower'''\n"
      ],
      "execution_count": null,
      "outputs": []
    },
    {
      "cell_type": "code",
      "metadata": {
        "id": "9IyCFSZIIFoI"
      },
      "source": [
        "df.loc[1]['Content_Parsed_1']"
      ],
      "execution_count": null,
      "outputs": []
    },
    {
      "cell_type": "code",
      "metadata": {
        "id": "MpfOhO4OIFoJ"
      },
      "source": [
        "df.loc[1]['Content_Parsed_2']"
      ],
      "execution_count": null,
      "outputs": []
    },
    {
      "cell_type": "code",
      "metadata": {
        "id": "pJPn_P5a1RRN"
      },
      "source": [
        "df2.head()"
      ],
      "execution_count": null,
      "outputs": []
    },
    {
      "cell_type": "code",
      "metadata": {
        "id": "ylPF1g5eIFoJ"
      },
      "source": [
        "# Descargar librería\n",
        "nltk.download('stopwords')\n",
        "# Cargar Stop Words sobre las cuales el algoritmo no se va a detener o no va a tener en cuenta \n",
        "stop_words = list(stopwords.words('spanish'))"
      ],
      "execution_count": null,
      "outputs": []
    },
    {
      "cell_type": "code",
      "metadata": {
        "id": "Y2Wm0hkVIFoJ"
      },
      "source": [
        "# Definir una forma o expresión regular:\n",
        "df['Content_Parsed_3'] = df['Content_Parsed_2']\n",
        "df['titulo3'] = df['titulo2']\n",
        "#df2['descripcion3'] = df2['descripcion2']\n",
        "#df2['titulo3'] = df2['titulo2']\n",
        "\n",
        "for stop_word in stop_words:\n",
        "\n",
        "    expres_stopword = r\"\\b\" + stop_word + r\"\\b\"\n",
        "    \n",
        "    df['Content_Parsed_3'] = df['Content_Parsed_3'].str.replace(expres_stopword, '')\n",
        "    df['titulo3'] = df['titulo3'].str.replace(expres_stopword, '')\n",
        "    #df2['descripcion3'] = df2['descripcion3'].str.replace(expres_stopword, '')\n",
        "    #df2['titulo3'] = df2['titulo3'].str.replace(expres_stopword, '')"
      ],
      "execution_count": null,
      "outputs": []
    },
    {
      "cell_type": "code",
      "metadata": {
        "id": "nre4Y7ygIFoK"
      },
      "source": [
        "df.loc[1]['Content_Parsed_3']"
      ],
      "execution_count": null,
      "outputs": []
    },
    {
      "cell_type": "code",
      "metadata": {
        "id": "YWRtpX_2IFoK"
      },
      "source": [
        "stop_words2 = ['â']\n",
        "df['Content_Parsed_4'] = df['Content_Parsed_3']\n",
        "df['titulo4'] = df['titulo3']\n",
        "#df2['descripcion4'] = df2['descripcion3']\n",
        "#df2['titulo4'] = df2['titulo3']\n",
        "\n",
        "\n",
        "for x in stop_words2:\n",
        "    df['Content_Parsed_4'] = df['Content_Parsed_4'].str.replace(x,'a')\n",
        "    df['titulo4'] = df['titulo4'].str.replace(x,'a')\n",
        "    #df2['descripcion4'] = df2['descripcion4'].str.replace(x,'a')\n",
        "    #df2['titulo4'] = df2['titulo4'].str.replace(x,'a')"
      ],
      "execution_count": null,
      "outputs": []
    },
    {
      "cell_type": "code",
      "metadata": {
        "id": "MxsIvFtAIFoK"
      },
      "source": [
        "stop_words3 = ['i\\x93']\n",
        "df['Content_Parsed_5'] = df['Content_Parsed_4']\n",
        "df['titulo5'] = df['titulo4']\n",
        "#df2['descripcion5'] = df2['descripcion4']\n",
        "#df2['titulo5'] = df2['titulo4']\n",
        "\n",
        "for x in stop_words3:\n",
        "    df['Content_Parsed_5'] = df['Content_Parsed_5'].str.replace(x,'o')\n",
        "    df['titulo5'] = df['titulo5'].str.replace(x,'o')\n",
        "    #df2['descripcion5'] = df2['descripcion5'].str.replace(x,'o')\n",
        "    #df2['titulo5'] = df2['titulo5'].str.replace(x,'o')"
      ],
      "execution_count": null,
      "outputs": []
    },
    {
      "cell_type": "code",
      "metadata": {
        "id": "XY_rKFOxIFoK"
      },
      "source": [
        "stop_words4 = ['año', 'semestre', 'meses','importante', \n",
        "               'urgente', 'mañana', 'lunes', 'martes', \n",
        "               'miercoles', 'jueves', 'viernes', 'sabado', \n",
        "               'domingo', '\\xad','0','1','2','3','4','5','6',\n",
        "               '7','8','9','?','¿',':','¡','!','.',',',';','-',\n",
        "               '$','%','#','*','+', 'whatsapp', 'facebook', 'linkedin',\n",
        "               'hoja vida','a\\x8d','enero','febrero','marzo',\n",
        "               'abril','mayo','junio','julio','agosto','septiembre',\n",
        "               'octubre','noviembre','diciembre']\n",
        "\n",
        "df['Content_Parsed_6'] = df['Content_Parsed_5']\n",
        "df['titulo6'] = df['titulo5']\n",
        "#df2['descripcion6'] = df2['descripcion5']\n",
        "#df2['titulo6'] = df2['titulo5']\n",
        "\n",
        "for x in stop_words4:\n",
        "    df['Content_Parsed_6'] = df['Content_Parsed_6'].str.replace(x,'')\n",
        "    df['titulo6'] = df['titulo6'].str.replace(x,'')\n",
        "    #df2['descripcion6'] = df2['descripcion6'].str.replace(x,'')\n",
        "    #df2['titulo6'] = df2['titulo6'].str.replace(x,'')"
      ],
      "execution_count": null,
      "outputs": []
    },
    {
      "cell_type": "code",
      "metadata": {
        "id": "atuDWQEeIFoL"
      },
      "source": [
        "df.loc[1]['Content_Parsed_6']"
      ],
      "execution_count": null,
      "outputs": []
    },
    {
      "cell_type": "code",
      "metadata": {
        "id": "myeo6BGMIFoL"
      },
      "source": [
        "stop_words5 = ['  ', '   ','    ']\n",
        "df['Content_Parsed_7'] = df['Content_Parsed_6']\n",
        "df['titulo7'] = df['titulo6']\n",
        "#df2['descripcion7'] = df2['descripcion6']\n",
        "#df2['titulo7'] = df2['titulo6']\n",
        "\n",
        "\n",
        "for x in stop_words5:\n",
        "    df['Content_Parsed_7'] = df['Content_Parsed_7'].str.replace(x,' ')\n",
        "    df['titulo7'] = df['titulo7'].str.replace(x,' ')\n",
        "    #df2['descripcion7'] = df2['descripcion6'].str.replace(x,' ')\n",
        "    #df2['titulo7'] = df2['titulo6'].str.replace(x,' ')\n"
      ],
      "execution_count": null,
      "outputs": []
    },
    {
      "cell_type": "code",
      "metadata": {
        "id": "LOR6Z_PSIFoL"
      },
      "source": [
        "df.loc[1]['Content_Parsed_7']"
      ],
      "execution_count": null,
      "outputs": []
    },
    {
      "cell_type": "code",
      "metadata": {
        "id": "jM4Gnt34PYX4"
      },
      "source": [
        "df.head()"
      ],
      "execution_count": null,
      "outputs": []
    },
    {
      "cell_type": "code",
      "metadata": {
        "id": "uTcYRnDwPTdT"
      },
      "source": [
        "base_vacantes = df[['id','date_2','titulo7','Content_Parsed_7']]\n",
        "base_vacantes.columns = ['id', 'fecha', 'titulo', 'descripcion']"
      ],
      "execution_count": null,
      "outputs": []
    },
    {
      "cell_type": "code",
      "metadata": {
        "id": "RQIZMuO2QZR3"
      },
      "source": [
        "base_vacantes.head()"
      ],
      "execution_count": null,
      "outputs": []
    },
    {
      "cell_type": "code",
      "metadata": {
        "id": "grvwskoP9RxG"
      },
      "source": [
        "base_vacantes.to_pickle(\"base1_vacantes.pkl\")\n",
        "df2.to_pickle(\"base1_clasificacion.pkl\")"
      ],
      "execution_count": null,
      "outputs": []
    },
    {
      "cell_type": "code",
      "metadata": {
        "id": "ZdhNiR0XQf4G"
      },
      "source": [
        ""
      ],
      "execution_count": null,
      "outputs": []
    }
  ]
}