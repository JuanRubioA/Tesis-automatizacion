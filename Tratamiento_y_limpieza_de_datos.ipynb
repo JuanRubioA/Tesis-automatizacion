{
  "nbformat": 4,
  "nbformat_minor": 0,
  "metadata": {
    "kernelspec": {
      "display_name": "Python 3",
      "language": "python",
      "name": "python3"
    },
    "language_info": {
      "codemirror_mode": {
        "name": "ipython",
        "version": 3
      },
      "file_extension": ".py",
      "mimetype": "text/x-python",
      "name": "python",
      "nbconvert_exporter": "python",
      "pygments_lexer": "ipython3",
      "version": "3.8.5"
    },
    "colab": {
      "name": "Tratamiento y limpieza de datos.ipynb",
      "provenance": []
    },
    "accelerator": "GPU"
  },
  "cells": [
    {
      "cell_type": "markdown",
      "metadata": {
        "id": "etj5YliWTtxj"
      },
      "source": [
        "### **Tratamiento y limpieza de datos de Vacantes**"
      ]
    },
    {
      "cell_type": "markdown",
      "metadata": {
        "id": "iuMS4vncTejX"
      },
      "source": [
        "Importar la base de datos de vacantes que previamente se normalizó (no completamente) en STATA"
      ]
    },
    {
      "cell_type": "code",
      "metadata": {
        "colab": {
          "base_uri": "https://localhost:8080/"
        },
        "id": "_Xj7lyM2xypg",
        "outputId": "47e4ee43-103c-47e7-870c-cc542d0b383f"
      },
      "source": [
        "from google.colab import drive\n",
        "drive.mount('/content/drive')"
      ],
      "execution_count": null,
      "outputs": [
        {
          "output_type": "stream",
          "text": [
            "Mounted at /content/drive\n"
          ],
          "name": "stdout"
        }
      ]
    },
    {
      "cell_type": "code",
      "metadata": {
        "id": "AxtILT-sIFoD"
      },
      "source": [
        "import pandas as pd\n",
        "import matplotlib.pyplot as plt\n",
        "import pickle\n",
        "import seaborn as sns\n",
        "sns.set_style(\"whitegrid\")\n",
        "\n",
        "import warnings\n",
        "warnings.filterwarnings(\"ignore\")\n",
        "import re"
      ],
      "execution_count": null,
      "outputs": []
    },
    {
      "cell_type": "code",
      "metadata": {
        "id": "lzoaf3KpIFoF"
      },
      "source": [
        "df_path = \"D:/Users/jfrub/OneDrive - Universidad de los Andes/Bases de datos/Vacantes/\"\n",
        "df_path2 = 'vacantes final 2.csv'\n",
        "df = pd.read_csv(df_path2, encoding='latin-1', error_bad_lines=False)"
      ],
      "execution_count": null,
      "outputs": []
    },
    {
      "cell_type": "code",
      "metadata": {
        "id": "Ib7DdKp_IFoF",
        "colab": {
          "base_uri": "https://localhost:8080/",
          "height": 69
        },
        "outputId": "399461af-0c5e-4213-9072-ac0ddd875aca"
      },
      "source": [
        "''' #Importar librería\n",
        "from IPython.display import Image\n",
        "# Cargar imagen\n",
        "Image(filename=\"D:/Users/jfrub/OneDrive - Universidad de los Andes/Seminario de tesis PEG/Vacantes totales.jpg\", width = 900, height = 600) '''\n"
      ],
      "execution_count": null,
      "outputs": [
        {
          "output_type": "execute_result",
          "data": {
            "application/vnd.google.colaboratory.intrinsic+json": {
              "type": "string"
            },
            "text/plain": [
              "' #Importar librería\\nfrom IPython.display import Image\\n# Cargar imagen\\nImage(filename=\"D:/Users/jfrub/OneDrive - Universidad de los Andes/Seminario de tesis PEG/Vacantes totales.jpg\", width = 900, height = 600) '"
            ]
          },
          "metadata": {
            "tags": []
          },
          "execution_count": 4
        }
      ]
    },
    {
      "cell_type": "code",
      "metadata": {
        "id": "caaWsiPudTht"
      },
      "source": [
        "df = df.iloc[0:5000]"
      ],
      "execution_count": null,
      "outputs": []
    },
    {
      "cell_type": "code",
      "metadata": {
        "id": "EuxeVMdwIFoG"
      },
      "source": [
        "# Importar librerías para la limpieza de los datos\n",
        "import pickle\n",
        "import pandas as pd\n",
        "import re\n",
        "import nltk\n",
        "from nltk.corpus import stopwords\n",
        "from nltk.stem import WordNetLemmatizer\n",
        "from sklearn.feature_extraction.text import TfidfVectorizer\n",
        "from sklearn.model_selection import train_test_split\n",
        "from sklearn.feature_selection import chi2\n",
        "import numpy as np"
      ],
      "execution_count": null,
      "outputs": []
    },
    {
      "cell_type": "code",
      "metadata": {
        "id": "AlaZ2yfvIFoH",
        "colab": {
          "base_uri": "https://localhost:8080/",
          "height": 52
        },
        "outputId": "ddc30708-179b-4144-a63a-3e7c27a14325"
      },
      "source": [
        "df.loc[1]['descripcion']"
      ],
      "execution_count": null,
      "outputs": [
        {
          "output_type": "execute_result",
          "data": {
            "application/vnd.google.colaboratory.intrinsic+json": {
              "type": "string"
            },
            "text/plain": [
              "'Se requiere tecnÃ³logo en sistemas yo afines, o estudiante de IngenieriÂ\\xada de sistemas yo afines de 6 semestre en adelante, que posea experiencia de 6 meses a un 1 aÃ±o en desarrollo y conocimiento en AS400RPG'"
            ]
          },
          "metadata": {
            "tags": []
          },
          "execution_count": 7
        }
      ]
    },
    {
      "cell_type": "code",
      "metadata": {
        "scrolled": true,
        "id": "TLHauUEjIFoH"
      },
      "source": [
        "# Limpieza de caracteres especiales\n",
        "df['Content_Parsed_1'] = df['descripcion'].str.replace(\"\\r\", \" \")\n",
        "df['Content_Parsed_1'] = df['Content_Parsed_1'].str.replace(\"\\n\", \" \")\n",
        "df['Content_Parsed_1'] = df['Content_Parsed_1'].str.replace(\"Ã³\", \"o\")\n",
        "df['Content_Parsed_1'] = df['Content_Parsed_1'].str.replace(\"Ã¡\", \"a\")\n",
        "df['Content_Parsed_1'] = df['Content_Parsed_1'].str.replace(\"Ã©\", \"e\")\n",
        "df['Content_Parsed_1'] = df['Content_Parsed_1'].str.replace(\"Ãº\", \"u\")\n",
        "df['Content_Parsed_1'] = df['Content_Parsed_1'].str.replace(\"Ã±\", \"ñ\")\n",
        "df['Content_Parsed_1'] = df['Content_Parsed_1'].str.replace(\"Ã-\", \"I\")\n",
        "df['Content_Parsed_1'] = df['Content_Parsed_1'].str.replace(\"Ã\", \"i\")\n",
        "\n",
        "df['Content_Parsed_21'] = df['titulo'].str.replace(\"\\r\", \" \")\n",
        "df['Content_Parsed_21'] = df['Content_Parsed_21'].str.replace(\"\\n\", \" \")\n",
        "df['Content_Parsed_21'] = df['Content_Parsed_21'].str.replace(\"Ã³\", \"o\")\n",
        "df['Content_Parsed_21'] = df['Content_Parsed_21'].str.replace(\"Ã¡\", \"a\")\n",
        "df['Content_Parsed_21'] = df['Content_Parsed_21'].str.replace(\"Ã©\", \"e\")\n",
        "df['Content_Parsed_21'] = df['Content_Parsed_21'].str.replace(\"Ãº\", \"u\")\n",
        "df['Content_Parsed_21'] = df['Content_Parsed_21'].str.replace(\"Ã±\", \"ñ\")\n",
        "df['Content_Parsed_21'] = df['Content_Parsed_21'].str.replace(\"Ã-\", \"I\")\n",
        "df['Content_Parsed_21'] = df['Content_Parsed_21'].str.replace(\"Ã\", \"i\")"
      ],
      "execution_count": null,
      "outputs": []
    },
    {
      "cell_type": "code",
      "metadata": {
        "id": "9IyCFSZIIFoI",
        "colab": {
          "base_uri": "https://localhost:8080/",
          "height": 52
        },
        "outputId": "624af825-830c-456a-8f56-08f471f0c55a"
      },
      "source": [
        "df.loc[1]['Content_Parsed_1']"
      ],
      "execution_count": null,
      "outputs": [
        {
          "output_type": "execute_result",
          "data": {
            "application/vnd.google.colaboratory.intrinsic+json": {
              "type": "string"
            },
            "text/plain": [
              "'Se requiere tecnologo en sistemas yo afines, o estudiante de IngenieriÂ\\xada de sistemas yo afines de 6 semestre en adelante, que posea experiencia de 6 meses a un 1 año en desarrollo y conocimiento en AS400RPG'"
            ]
          },
          "metadata": {
            "tags": []
          },
          "execution_count": 9
        }
      ]
    },
    {
      "cell_type": "code",
      "metadata": {
        "id": "STZSUddfIFoI"
      },
      "source": [
        "# Todo el texto en minúscula\n",
        "df['Content_Parsed_2'] = df['Content_Parsed_1'].str.lower()\n",
        "df['titulo2'] = df['Content_Parsed_21'].str.lower()"
      ],
      "execution_count": null,
      "outputs": []
    },
    {
      "cell_type": "code",
      "metadata": {
        "id": "MpfOhO4OIFoJ",
        "colab": {
          "base_uri": "https://localhost:8080/",
          "height": 52
        },
        "outputId": "1b468f15-efd2-471a-df99-b87cfc1404fc"
      },
      "source": [
        "df.loc[1]['Content_Parsed_2']"
      ],
      "execution_count": null,
      "outputs": [
        {
          "output_type": "execute_result",
          "data": {
            "application/vnd.google.colaboratory.intrinsic+json": {
              "type": "string"
            },
            "text/plain": [
              "'se requiere tecnologo en sistemas yo afines, o estudiante de ingenieriâ\\xada de sistemas yo afines de 6 semestre en adelante, que posea experiencia de 6 meses a un 1 año en desarrollo y conocimiento en as400rpg'"
            ]
          },
          "metadata": {
            "tags": []
          },
          "execution_count": 11
        }
      ]
    },
    {
      "cell_type": "code",
      "metadata": {
        "id": "ylPF1g5eIFoJ",
        "colab": {
          "base_uri": "https://localhost:8080/"
        },
        "outputId": "0d4f8fbc-1ab6-4fb6-fe70-d12587873131"
      },
      "source": [
        "# Descargar librería\n",
        "nltk.download('stopwords')"
      ],
      "execution_count": null,
      "outputs": [
        {
          "output_type": "stream",
          "text": [
            "[nltk_data] Downloading package stopwords to /root/nltk_data...\n",
            "[nltk_data]   Unzipping corpora/stopwords.zip.\n"
          ],
          "name": "stdout"
        },
        {
          "output_type": "execute_result",
          "data": {
            "text/plain": [
              "True"
            ]
          },
          "metadata": {
            "tags": []
          },
          "execution_count": 12
        }
      ]
    },
    {
      "cell_type": "code",
      "metadata": {
        "id": "VASJFKxJIFoJ"
      },
      "source": [
        "# Cargar Stop Words sobre las cuales el algoritmo no se va a detener o no va a tener en cuenta \n",
        "stop_words = list(stopwords.words('spanish'))"
      ],
      "execution_count": null,
      "outputs": []
    },
    {
      "cell_type": "code",
      "metadata": {
        "id": "Y2Wm0hkVIFoJ"
      },
      "source": [
        "# Definir una forma o expresión regular:\n",
        "df['Content_Parsed_3'] = df['Content_Parsed_2']\n",
        "df['titulo3'] = df['titulo2']\n",
        "\n",
        "for stop_word in stop_words:\n",
        "\n",
        "    expres_stopword = r\"\\b\" + stop_word + r\"\\b\"\n",
        "    \n",
        "    df['Content_Parsed_3'] = df['Content_Parsed_3'].str.replace(expres_stopword, '')\n",
        "    df['titulo3'] = df['titulo3'].str.replace(expres_stopword, '')"
      ],
      "execution_count": null,
      "outputs": []
    },
    {
      "cell_type": "code",
      "metadata": {
        "id": "nre4Y7ygIFoK",
        "colab": {
          "base_uri": "https://localhost:8080/",
          "height": 52
        },
        "outputId": "1ac2635c-d5ad-40d7-d51e-ee17878a9f40"
      },
      "source": [
        "df.loc[1]['Content_Parsed_3']"
      ],
      "execution_count": null,
      "outputs": [
        {
          "output_type": "execute_result",
          "data": {
            "application/vnd.google.colaboratory.intrinsic+json": {
              "type": "string"
            },
            "text/plain": [
              "' requiere tecnologo  sistemas  afines,  estudiante  ingenieriâ\\xad  sistemas  afines  6 semestre  adelante,  posea experiencia  6 meses   1 año  desarrollo  conocimiento  as400rpg'"
            ]
          },
          "metadata": {
            "tags": []
          },
          "execution_count": 15
        }
      ]
    },
    {
      "cell_type": "code",
      "metadata": {
        "id": "YWRtpX_2IFoK"
      },
      "source": [
        "stop_words2 = ['â']\n",
        "df['Content_Parsed_4'] = df['Content_Parsed_3']\n",
        "df['titulo4'] = df['titulo3']\n",
        "\n",
        "for x in stop_words2:\n",
        "    df['Content_Parsed_4'] = df['Content_Parsed_4'].str.replace(x,'a')\n",
        "    df['titulo4'] = df['titulo4'].str.replace(x,'a')"
      ],
      "execution_count": null,
      "outputs": []
    },
    {
      "cell_type": "code",
      "metadata": {
        "id": "MxsIvFtAIFoK"
      },
      "source": [
        "stop_words3 = ['i\\x93']\n",
        "df['Content_Parsed_5'] = df['Content_Parsed_4']\n",
        "df['titulo5'] = df['titulo4']\n",
        "\n",
        "for x in stop_words3:\n",
        "    df['Content_Parsed_5'] = df['Content_Parsed_5'].str.replace(x,'o')\n",
        "    df['titulo5'] = df['titulo5'].str.replace(x,'o')"
      ],
      "execution_count": null,
      "outputs": []
    },
    {
      "cell_type": "code",
      "metadata": {
        "id": "XY_rKFOxIFoK"
      },
      "source": [
        "stop_words4 = ['año', 'semestre', 'meses','importante', \n",
        "               'urgente', 'mañana', 'lunes', 'martes', \n",
        "               'miercoles', 'jueves', 'viernes', 'sabado', \n",
        "               'domingo', '\\xad','0','1','2','3','4','5','6',\n",
        "               '7','8','9','?','¿',':','¡','!','.',',',';','-',\n",
        "               '$','%','#','*','+', 'whatsapp', 'facebook', 'linkedin',\n",
        "               'hoja vida','a\\x8d','enero','febrero','marzo',\n",
        "               'abril','mayo','junio','julio','agosto','septiembre',\n",
        "               'octubre','noviembre','diciembre']\n",
        "\n",
        "df['Content_Parsed_6'] = df['Content_Parsed_5']\n",
        "df['titulo6'] = df['titulo5']\n",
        "\n",
        "for x in stop_words4:\n",
        "    df['Content_Parsed_6'] = df['Content_Parsed_6'].str.replace(x,'')\n",
        "    df['titulo6'] = df['titulo6'].str.replace(x,'')"
      ],
      "execution_count": null,
      "outputs": []
    },
    {
      "cell_type": "code",
      "metadata": {
        "id": "atuDWQEeIFoL",
        "colab": {
          "base_uri": "https://localhost:8080/",
          "height": 52
        },
        "outputId": "31dbd815-f74e-49ef-c102-2a3f3f0c6427"
      },
      "source": [
        "df.loc[1]['Content_Parsed_6']"
      ],
      "execution_count": null,
      "outputs": [
        {
          "output_type": "execute_result",
          "data": {
            "application/vnd.google.colaboratory.intrinsic+json": {
              "type": "string"
            },
            "text/plain": [
              "' requiere tecnologo  sistemas  afines  estudiante  ingenieria  sistemas  afines     adelante  posea experiencia         desarrollo  conocimiento  asrpg'"
            ]
          },
          "metadata": {
            "tags": []
          },
          "execution_count": 19
        }
      ]
    },
    {
      "cell_type": "code",
      "metadata": {
        "id": "myeo6BGMIFoL"
      },
      "source": [
        "stop_words5 = ['  ', '   ','    ']\n",
        "df['Content_Parsed_7'] = df['Content_Parsed_6']\n",
        "df['titulo7'] = df['titulo6']\n",
        "\n",
        "for x in stop_words5:\n",
        "    df['Content_Parsed_7'] = df['Content_Parsed_7'].str.replace(x,' ')\n",
        "    df['titulo7'] = df['titulo7'].str.replace(x,' ')"
      ],
      "execution_count": null,
      "outputs": []
    },
    {
      "cell_type": "code",
      "metadata": {
        "id": "LOR6Z_PSIFoL",
        "colab": {
          "base_uri": "https://localhost:8080/",
          "height": 188
        },
        "outputId": "4e32e2e5-cd13-44a2-a542-37ca00dffa12"
      },
      "source": [
        "df.loc[3000]['Content_Parsed_7']"
      ],
      "execution_count": null,
      "outputs": [
        {
          "output_type": "execute_result",
          "data": {
            "application/vnd.google.colaboratory.intrinsic+json": {
              "type": "string"
            },
            "text/plain": [
              "' grupo empresarial  proposito enriquecer vida integridad  interesa brindar experiencias confiables amigables sencillas si sientes afinidad  proposito  interes genuino  gente trabajo  davivienda  busqueda  profesional i diseño  direccion movilidad canales digitales  mision principal diseñar prototipos  diferentes soluciones cumplan  principios rectores usabilidad experiencia cliente requeridos  canales digitales funciones principales  definicion nuevas propuestas uxui  canales digitales acuerdo nuevas tendencias diseño necesidades consumidor diseñar prototipos enfocados  funcionalidad producto ux asia interfaces plataformas diversas ui llevando adelante proceso diseño autogestionando tareas trabajando manera colaborativa diseñar procesos mobile first principios leyes basicas usabilidad arquitectura informacion patrones comportamiento guiaas estilo candidatos ideales  cargo deben cumplir  siguientes requisitos estudios profesional diseño diseño grafico multimedia carreras afines estudios certificaciones metodologia investigacion usuario ux experiencia mianima  s  creacion productos digitales proyectos investigacion usuarios flujos interaccion wireframes prototipos experiencia laboral  cargos similares conocimientos especiaficos manejo herramientas diseño sketch illustrator xd invision apps prototipado oferta salario rango salarial  tipo contrato indefinido horario '"
            ]
          },
          "metadata": {
            "tags": []
          },
          "execution_count": 21
        }
      ]
    },
    {
      "cell_type": "code",
      "metadata": {
        "id": "VNrGd1NyIFoM",
        "colab": {
          "base_uri": "https://localhost:8080/",
          "height": 428
        },
        "outputId": "ec1772c2-c428-461d-fe4d-aa129b102c3c"
      },
      "source": [
        "df.head()"
      ],
      "execution_count": null,
      "outputs": [
        {
          "output_type": "execute_result",
          "data": {
            "text/html": [
              "<div>\n",
              "<style scoped>\n",
              "    .dataframe tbody tr th:only-of-type {\n",
              "        vertical-align: middle;\n",
              "    }\n",
              "\n",
              "    .dataframe tbody tr th {\n",
              "        vertical-align: top;\n",
              "    }\n",
              "\n",
              "    .dataframe thead th {\n",
              "        text-align: right;\n",
              "    }\n",
              "</style>\n",
              "<table border=\"1\" class=\"dataframe\">\n",
              "  <thead>\n",
              "    <tr style=\"text-align: right;\">\n",
              "      <th></th>\n",
              "      <th>id</th>\n",
              "      <th>disponibilidad</th>\n",
              "      <th>fecha</th>\n",
              "      <th>Remuneracion_m</th>\n",
              "      <th>sector</th>\n",
              "      <th>vacantes</th>\n",
              "      <th>profesion</th>\n",
              "      <th>descripcion</th>\n",
              "      <th>grupo</th>\n",
              "      <th>nivel</th>\n",
              "      <th>experiencia</th>\n",
              "      <th>vinculacion</th>\n",
              "      <th>dia</th>\n",
              "      <th>mes</th>\n",
              "      <th>mesnum</th>\n",
              "      <th>year</th>\n",
              "      <th>date</th>\n",
              "      <th>date_2</th>\n",
              "      <th>titulo</th>\n",
              "      <th>ocupacion</th>\n",
              "      <th>salario</th>\n",
              "      <th>Vacantes_m</th>\n",
              "      <th>educacion2</th>\n",
              "      <th>vactot</th>\n",
              "      <th>vacantes_final1</th>\n",
              "      <th>vacantes_final2</th>\n",
              "      <th>semana</th>\n",
              "      <th>semana1</th>\n",
              "      <th>semana2</th>\n",
              "      <th>vacantes_final_t1</th>\n",
              "      <th>vacantes_final_t2</th>\n",
              "      <th>id2</th>\n",
              "      <th>Content_Parsed_1</th>\n",
              "      <th>Content_Parsed_21</th>\n",
              "      <th>Content_Parsed_2</th>\n",
              "      <th>titulo2</th>\n",
              "      <th>Content_Parsed_3</th>\n",
              "      <th>titulo3</th>\n",
              "      <th>Content_Parsed_4</th>\n",
              "      <th>titulo4</th>\n",
              "      <th>Content_Parsed_5</th>\n",
              "      <th>titulo5</th>\n",
              "      <th>Content_Parsed_6</th>\n",
              "      <th>titulo6</th>\n",
              "      <th>Content_Parsed_7</th>\n",
              "      <th>titulo7</th>\n",
              "    </tr>\n",
              "  </thead>\n",
              "  <tbody>\n",
              "    <tr>\n",
              "      <th>0</th>\n",
              "      <td>1884375002</td>\n",
              "      <td>Oferta no disponible</td>\n",
              "      <td>['Publicado 2 Ene 2020']</td>\n",
              "      <td>$1 a $1,5 millones</td>\n",
              "      <td>Administrativa y Financiera</td>\n",
              "      <td>1</td>\n",
              "      <td>Otra</td>\n",
              "      <td>Empresa de telecomunicaciones requiere para su...</td>\n",
              "      <td>Profesional</td>\n",
              "      <td>, Profesional</td>\n",
              "      <td>2 aÃ±os de experiencia</td>\n",
              "      <td>Contrato Indefinido</td>\n",
              "      <td>2</td>\n",
              "      <td>Enero</td>\n",
              "      <td>1</td>\n",
              "      <td>2020</td>\n",
              "      <td>2020m1</td>\n",
              "      <td>02jan2020</td>\n",
              "      <td>Analista sst con licencia</td>\n",
              "      <td>Otros</td>\n",
              "      <td>Medios</td>\n",
              "      <td>,1Vacante</td>\n",
              "      <td>Universitaria</td>\n",
              "      <td>21782</td>\n",
              "      <td>NaN</td>\n",
              "      <td>45120.0</td>\n",
              "      <td>1</td>\n",
              "      <td>NaN</td>\n",
              "      <td>1.0</td>\n",
              "      <td>288020</td>\n",
              "      <td>6457</td>\n",
              "      <td>1</td>\n",
              "      <td>Empresa de telecomunicaciones requiere para su...</td>\n",
              "      <td>Analista sst con licencia</td>\n",
              "      <td>empresa de telecomunicaciones requiere para su...</td>\n",
              "      <td>analista sst con licencia</td>\n",
              "      <td>empresa  telecomunicaciones requiere   equipo ...</td>\n",
              "      <td>analista sst  licencia</td>\n",
              "      <td>empresa  telecomunicaciones requiere   equipo ...</td>\n",
              "      <td>analista sst  licencia</td>\n",
              "      <td>empresa  telecomunicaciones requiere   equipo ...</td>\n",
              "      <td>analista sst  licencia</td>\n",
              "      <td>empresa  telecomunicaciones requiere   equipo ...</td>\n",
              "      <td>analista sst  licencia</td>\n",
              "      <td>empresa telecomunicaciones requiere  equipo tr...</td>\n",
              "      <td>analista sst licencia</td>\n",
              "    </tr>\n",
              "    <tr>\n",
              "      <th>1</th>\n",
              "      <td>1884375149</td>\n",
              "      <td>Oferta no disponible</td>\n",
              "      <td>['Publicado 3 Ene 2020']</td>\n",
              "      <td>$2 a $2,5 millones</td>\n",
              "      <td>Sistemas y Tecnologia</td>\n",
              "      <td>1</td>\n",
              "      <td>IngenieriÂ­a de sistemasComputaciÃ³n</td>\n",
              "      <td>Se requiere tecnÃ³logo en sistemas yo afines, ...</td>\n",
              "      <td>Profesional</td>\n",
              "      <td>,</td>\n",
              "      <td>Menos de un aÃ±o de experiencia</td>\n",
              "      <td>Contrato Indefinido</td>\n",
              "      <td>3</td>\n",
              "      <td>Enero</td>\n",
              "      <td>1</td>\n",
              "      <td>2020</td>\n",
              "      <td>2020m1</td>\n",
              "      <td>03jan2020</td>\n",
              "      <td>Desarrollador junior as400 medelliÂ­n</td>\n",
              "      <td>Ciencia y tecnologiÂ­a</td>\n",
              "      <td>Medios</td>\n",
              "      <td>,1Vacante</td>\n",
              "      <td>Universitaria</td>\n",
              "      <td>21945</td>\n",
              "      <td>NaN</td>\n",
              "      <td>45120.0</td>\n",
              "      <td>1</td>\n",
              "      <td>NaN</td>\n",
              "      <td>1.0</td>\n",
              "      <td>288020</td>\n",
              "      <td>6457</td>\n",
              "      <td>2</td>\n",
              "      <td>Se requiere tecnologo en sistemas yo afines, o...</td>\n",
              "      <td>Desarrollador junior as400 medelliÂ­n</td>\n",
              "      <td>se requiere tecnologo en sistemas yo afines, o...</td>\n",
              "      <td>desarrollador junior as400 medelliâ­n</td>\n",
              "      <td>requiere tecnologo  sistemas  afines,  estudi...</td>\n",
              "      <td>desarrollador junior as400 medelliâ­n</td>\n",
              "      <td>requiere tecnologo  sistemas  afines,  estudi...</td>\n",
              "      <td>desarrollador junior as400 medellia­n</td>\n",
              "      <td>requiere tecnologo  sistemas  afines,  estudi...</td>\n",
              "      <td>desarrollador junior as400 medellia­n</td>\n",
              "      <td>requiere tecnologo  sistemas  afines  estudia...</td>\n",
              "      <td>desarrollador r as medellian</td>\n",
              "      <td>requiere tecnologo sistemas afines estudiante...</td>\n",
              "      <td>desarrollador r as medellian</td>\n",
              "    </tr>\n",
              "    <tr>\n",
              "      <th>2</th>\n",
              "      <td>1884374755</td>\n",
              "      <td>Oferta no disponible</td>\n",
              "      <td>['Publicado 2 Ene 2020']</td>\n",
              "      <td>Menos de $1 millÃ³n</td>\n",
              "      <td>Administrativa y Financiera</td>\n",
              "      <td>1</td>\n",
              "      <td>Bachillerato AcadÃ©mico</td>\n",
              "      <td>Importante entidad financiera se encuentra en ...</td>\n",
              "      <td>Auxiliar, asistencial y otros</td>\n",
              "      <td>,</td>\n",
              "      <td>Menos de un aÃ±o de experiencia</td>\n",
              "      <td>Contrato Contrato de aprendizaje</td>\n",
              "      <td>2</td>\n",
              "      <td>Enero</td>\n",
              "      <td>1</td>\n",
              "      <td>2020</td>\n",
              "      <td>2020m1</td>\n",
              "      <td>02jan2020</td>\n",
              "      <td>Asesor comercial *bachiller</td>\n",
              "      <td>Banca</td>\n",
              "      <td>Bajos</td>\n",
              "      <td>,1Vacante</td>\n",
              "      <td>Media 10Â° - 13Â°</td>\n",
              "      <td>21414</td>\n",
              "      <td>NaN</td>\n",
              "      <td>45120.0</td>\n",
              "      <td>1</td>\n",
              "      <td>NaN</td>\n",
              "      <td>1.0</td>\n",
              "      <td>288020</td>\n",
              "      <td>6457</td>\n",
              "      <td>3</td>\n",
              "      <td>Importante entidad financiera se encuentra en ...</td>\n",
              "      <td>Asesor comercial *bachiller</td>\n",
              "      <td>importante entidad financiera se encuentra en ...</td>\n",
              "      <td>asesor comercial *bachiller</td>\n",
              "      <td>importante entidad financiera  encuentra   bus...</td>\n",
              "      <td>asesor comercial *bachiller</td>\n",
              "      <td>importante entidad financiera  encuentra   bus...</td>\n",
              "      <td>asesor comercial *bachiller</td>\n",
              "      <td>importante entidad financiera  encuentra   bus...</td>\n",
              "      <td>asesor comercial *bachiller</td>\n",
              "      <td>entidad financiera  encuentra   busqueda  per...</td>\n",
              "      <td>asesor comercial bachiller</td>\n",
              "      <td>entidad financiera encuentra  busqueda person...</td>\n",
              "      <td>asesor comercial bachiller</td>\n",
              "    </tr>\n",
              "    <tr>\n",
              "      <th>3</th>\n",
              "      <td>1884376204</td>\n",
              "      <td>Oferta no disponible</td>\n",
              "      <td>['Publicado 3 Ene 2020']</td>\n",
              "      <td>$1,5 a $2 millones</td>\n",
              "      <td>Administrativa y Financiera</td>\n",
              "      <td>1</td>\n",
              "      <td>AdministraciÃ³n de empresas</td>\n",
              "      <td>Importante Outsourcing de cobranza requiere tÃ...</td>\n",
              "      <td>Auxiliar, asistencial y otros</td>\n",
              "      <td>,</td>\n",
              "      <td>1 aÃ±o de experiencia</td>\n",
              "      <td>NaN</td>\n",
              "      <td>3</td>\n",
              "      <td>Enero</td>\n",
              "      <td>1</td>\n",
              "      <td>2020</td>\n",
              "      <td>2020m1</td>\n",
              "      <td>03jan2020</td>\n",
              "      <td>Supervisor de cobranza</td>\n",
              "      <td>Servicios financieros</td>\n",
              "      <td>Medios</td>\n",
              "      <td>,1Vacante</td>\n",
              "      <td>TÃ©cnico Laboral</td>\n",
              "      <td>23111</td>\n",
              "      <td>NaN</td>\n",
              "      <td>45120.0</td>\n",
              "      <td>1</td>\n",
              "      <td>NaN</td>\n",
              "      <td>1.0</td>\n",
              "      <td>288020</td>\n",
              "      <td>6457</td>\n",
              "      <td>4</td>\n",
              "      <td>Importante Outsourcing de cobranza requiere te...</td>\n",
              "      <td>Supervisor de cobranza</td>\n",
              "      <td>importante outsourcing de cobranza requiere te...</td>\n",
              "      <td>supervisor de cobranza</td>\n",
              "      <td>importante outsourcing  cobranza requiere tecn...</td>\n",
              "      <td>supervisor  cobranza</td>\n",
              "      <td>importante outsourcing  cobranza requiere tecn...</td>\n",
              "      <td>supervisor  cobranza</td>\n",
              "      <td>importante outsourcing  cobranza requiere tecn...</td>\n",
              "      <td>supervisor  cobranza</td>\n",
              "      <td>outsourcing  cobranza requiere tecnico  estud...</td>\n",
              "      <td>supervisor  cobranza</td>\n",
              "      <td>outsourcing cobranza requiere tecnico estudia...</td>\n",
              "      <td>supervisor cobranza</td>\n",
              "    </tr>\n",
              "    <tr>\n",
              "      <th>4</th>\n",
              "      <td>1884376605</td>\n",
              "      <td>Oferta no disponible</td>\n",
              "      <td>['Publicado 3 Ene 2020']</td>\n",
              "      <td>$1,5 a $2 millones</td>\n",
              "      <td>Administrativa y Financiera</td>\n",
              "      <td>1</td>\n",
              "      <td>Otra</td>\n",
              "      <td>Empresa del sector estÃ¡ en busca de personas ...</td>\n",
              "      <td>Profesional</td>\n",
              "      <td>, Profesional</td>\n",
              "      <td>NaN</td>\n",
              "      <td>Contrato Indefinido</td>\n",
              "      <td>3</td>\n",
              "      <td>Enero</td>\n",
              "      <td>1</td>\n",
              "      <td>2020</td>\n",
              "      <td>2020m1</td>\n",
              "      <td>03jan2020</td>\n",
              "      <td>AtenciÃ³n al cliente</td>\n",
              "      <td>Otros</td>\n",
              "      <td>Medios</td>\n",
              "      <td>,1Vacante</td>\n",
              "      <td>Universitaria</td>\n",
              "      <td>23550</td>\n",
              "      <td>NaN</td>\n",
              "      <td>45120.0</td>\n",
              "      <td>1</td>\n",
              "      <td>NaN</td>\n",
              "      <td>1.0</td>\n",
              "      <td>288020</td>\n",
              "      <td>6457</td>\n",
              "      <td>5</td>\n",
              "      <td>Empresa del sector esta en busca de personas c...</td>\n",
              "      <td>Atencion al cliente</td>\n",
              "      <td>empresa del sector esta en busca de personas c...</td>\n",
              "      <td>atencion al cliente</td>\n",
              "      <td>empresa  sector   busca  personas   nivel  ing...</td>\n",
              "      <td>atencion  cliente</td>\n",
              "      <td>empresa  sector   busca  personas   nivel  ing...</td>\n",
              "      <td>atencion  cliente</td>\n",
              "      <td>empresa  sector   busca  personas   nivel  ing...</td>\n",
              "      <td>atencion  cliente</td>\n",
              "      <td>empresa  sector   busca  personas   nivel  ing...</td>\n",
              "      <td>atencion  cliente</td>\n",
              "      <td>empresa sector  busca personas  nivel ingles a...</td>\n",
              "      <td>atencion cliente</td>\n",
              "    </tr>\n",
              "  </tbody>\n",
              "</table>\n",
              "</div>"
            ],
            "text/plain": [
              "           id  ...                       titulo7\n",
              "0  1884375002  ...         analista sst licencia\n",
              "1  1884375149  ...  desarrollador r as medellian\n",
              "2  1884374755  ...    asesor comercial bachiller\n",
              "3  1884376204  ...           supervisor cobranza\n",
              "4  1884376605  ...              atencion cliente\n",
              "\n",
              "[5 rows x 46 columns]"
            ]
          },
          "metadata": {
            "tags": []
          },
          "execution_count": 22
        }
      ]
    },
    {
      "cell_type": "code",
      "metadata": {
        "id": "bTYER7veIFoM",
        "colab": {
          "base_uri": "https://localhost:8080/"
        },
        "outputId": "f9fc3d57-7119-4207-9b51-209f0d65eb91"
      },
      "source": [
        "print(df.columns.values)"
      ],
      "execution_count": null,
      "outputs": [
        {
          "output_type": "stream",
          "text": [
            "['id' 'disponibilidad' 'fecha' 'Remuneracion_m' 'sector' 'vacantes'\n",
            " 'profesion' 'descripcion' 'grupo' 'nivel' 'experiencia' 'vinculacion'\n",
            " 'dia' 'mes' 'mesnum' 'year' 'date' 'date_2' 'titulo' 'ocupacion'\n",
            " 'salario' 'Vacantes_m' 'educacion2' 'vactot' 'vacantes_final1'\n",
            " 'vacantes_final2' 'semana' 'semana1' 'semana2' 'vacantes_final_t1'\n",
            " 'vacantes_final_t2' 'id2' 'Content_Parsed_1' 'Content_Parsed_21'\n",
            " 'Content_Parsed_2' 'titulo2' 'Content_Parsed_3' 'titulo3'\n",
            " 'Content_Parsed_4' 'titulo4' 'Content_Parsed_5' 'titulo5'\n",
            " 'Content_Parsed_6' 'titulo6' 'Content_Parsed_7' 'titulo7']\n"
          ],
          "name": "stdout"
        }
      ]
    },
    {
      "cell_type": "code",
      "metadata": {
        "id": "SVVCBrjMcVC9"
      },
      "source": [
        "df_descripcion = df[[\"id\", \"Content_Parsed_7\"]]\n",
        "df_clasificacion = df1[[\"codigo\",\"descripcion5\"]]\n"
      ],
      "execution_count": null,
      "outputs": []
    },
    {
      "cell_type": "code",
      "metadata": {
        "id": "W5tA4yvyc6OL",
        "colab": {
          "base_uri": "https://localhost:8080/",
          "height": 204
        },
        "outputId": "bb7ba379-31cc-4afa-ef19-0b2c9fd7442e"
      },
      "source": [
        "df_descripcion.head()"
      ],
      "execution_count": null,
      "outputs": [
        {
          "output_type": "execute_result",
          "data": {
            "text/html": [
              "<div>\n",
              "<style scoped>\n",
              "    .dataframe tbody tr th:only-of-type {\n",
              "        vertical-align: middle;\n",
              "    }\n",
              "\n",
              "    .dataframe tbody tr th {\n",
              "        vertical-align: top;\n",
              "    }\n",
              "\n",
              "    .dataframe thead th {\n",
              "        text-align: right;\n",
              "    }\n",
              "</style>\n",
              "<table border=\"1\" class=\"dataframe\">\n",
              "  <thead>\n",
              "    <tr style=\"text-align: right;\">\n",
              "      <th></th>\n",
              "      <th>id</th>\n",
              "      <th>Content_Parsed_7</th>\n",
              "    </tr>\n",
              "  </thead>\n",
              "  <tbody>\n",
              "    <tr>\n",
              "      <th>0</th>\n",
              "      <td>1884375002</td>\n",
              "      <td>empresa telecomunicaciones requiere  equipo tr...</td>\n",
              "    </tr>\n",
              "    <tr>\n",
              "      <th>1</th>\n",
              "      <td>1884375149</td>\n",
              "      <td>requiere tecnologo sistemas afines estudiante...</td>\n",
              "    </tr>\n",
              "    <tr>\n",
              "      <th>2</th>\n",
              "      <td>1884374755</td>\n",
              "      <td>entidad financiera encuentra  busqueda person...</td>\n",
              "    </tr>\n",
              "    <tr>\n",
              "      <th>3</th>\n",
              "      <td>1884376204</td>\n",
              "      <td>outsourcing cobranza requiere tecnico estudia...</td>\n",
              "    </tr>\n",
              "    <tr>\n",
              "      <th>4</th>\n",
              "      <td>1884376605</td>\n",
              "      <td>empresa sector  busca personas  nivel ingles a...</td>\n",
              "    </tr>\n",
              "  </tbody>\n",
              "</table>\n",
              "</div>"
            ],
            "text/plain": [
              "           id                                   Content_Parsed_7\n",
              "0  1884375002  empresa telecomunicaciones requiere  equipo tr...\n",
              "1  1884375149   requiere tecnologo sistemas afines estudiante...\n",
              "2  1884374755   entidad financiera encuentra  busqueda person...\n",
              "3  1884376204   outsourcing cobranza requiere tecnico estudia...\n",
              "4  1884376605  empresa sector  busca personas  nivel ingles a..."
            ]
          },
          "metadata": {
            "tags": []
          },
          "execution_count": 30
        }
      ]
    },
    {
      "cell_type": "code",
      "metadata": {
        "id": "EwtRqBRtc-lS",
        "colab": {
          "base_uri": "https://localhost:8080/",
          "height": 204
        },
        "outputId": "6d1d22d6-b570-479e-f7c0-1adc485952d5"
      },
      "source": [
        "df_clasificacion.head()"
      ],
      "execution_count": null,
      "outputs": [
        {
          "output_type": "execute_result",
          "data": {
            "text/html": [
              "<div>\n",
              "<style scoped>\n",
              "    .dataframe tbody tr th:only-of-type {\n",
              "        vertical-align: middle;\n",
              "    }\n",
              "\n",
              "    .dataframe tbody tr th {\n",
              "        vertical-align: top;\n",
              "    }\n",
              "\n",
              "    .dataframe thead th {\n",
              "        text-align: right;\n",
              "    }\n",
              "</style>\n",
              "<table border=\"1\" class=\"dataframe\">\n",
              "  <thead>\n",
              "    <tr style=\"text-align: right;\">\n",
              "      <th></th>\n",
              "      <th>codigo</th>\n",
              "      <th>descripcion5</th>\n",
              "    </tr>\n",
              "  </thead>\n",
              "  <tbody>\n",
              "    <tr>\n",
              "      <th>0</th>\n",
              "      <td>11-1011.00</td>\n",
              "      <td>determinan formulan poli­ticas  ocupan  direcc...</td>\n",
              "    </tr>\n",
              "    <tr>\n",
              "      <th>1</th>\n",
              "      <td>11-1011.01</td>\n",
              "      <td>determinan formulan ordenanzas publicas ademas...</td>\n",
              "    </tr>\n",
              "    <tr>\n",
              "      <th>2</th>\n",
              "      <td>11-1011.02</td>\n",
              "      <td>determinan formulan reglamentos estrategias  e...</td>\n",
              "    </tr>\n",
              "    <tr>\n",
              "      <th>3</th>\n",
              "      <td>11-1021.00</td>\n",
              "      <td>planifican dirigen coordinan operaciones compa...</td>\n",
              "    </tr>\n",
              "    <tr>\n",
              "      <th>4</th>\n",
              "      <td>11-1031.00</td>\n",
              "      <td>redactan leyes estatutos  niveles federal esta...</td>\n",
              "    </tr>\n",
              "  </tbody>\n",
              "</table>\n",
              "</div>"
            ],
            "text/plain": [
              "       codigo                                       descripcion5\n",
              "0  11-1011.00  determinan formulan poli­ticas  ocupan  direcc...\n",
              "1  11-1011.01  determinan formulan ordenanzas publicas ademas...\n",
              "2  11-1011.02  determinan formulan reglamentos estrategias  e...\n",
              "3  11-1021.00  planifican dirigen coordinan operaciones compa...\n",
              "4  11-1031.00  redactan leyes estatutos  niveles federal esta..."
            ]
          },
          "metadata": {
            "tags": []
          },
          "execution_count": 31
        }
      ]
    },
    {
      "cell_type": "code",
      "metadata": {
        "id": "mHj6eUMwIFoO"
      },
      "source": [
        "df_clasificacion['descripcion5'] = df_clasificacion['descripcion5'].astype(str)\n",
        "df_descripcion['Content_Parsed_7'] = df_descripcion['Content_Parsed_7'].astype(str)"
      ],
      "execution_count": null,
      "outputs": []
    },
    {
      "cell_type": "code",
      "metadata": {
        "id": "BOYgw_AYffD9",
        "colab": {
          "base_uri": "https://localhost:8080/",
          "height": 204
        },
        "outputId": "ffa5c83e-da76-4d97-e0aa-e0f95750d29b"
      },
      "source": [
        "df_clasificacion.head()"
      ],
      "execution_count": null,
      "outputs": [
        {
          "output_type": "execute_result",
          "data": {
            "text/html": [
              "<div>\n",
              "<style scoped>\n",
              "    .dataframe tbody tr th:only-of-type {\n",
              "        vertical-align: middle;\n",
              "    }\n",
              "\n",
              "    .dataframe tbody tr th {\n",
              "        vertical-align: top;\n",
              "    }\n",
              "\n",
              "    .dataframe thead th {\n",
              "        text-align: right;\n",
              "    }\n",
              "</style>\n",
              "<table border=\"1\" class=\"dataframe\">\n",
              "  <thead>\n",
              "    <tr style=\"text-align: right;\">\n",
              "      <th></th>\n",
              "      <th>codigo</th>\n",
              "      <th>descripcion5</th>\n",
              "    </tr>\n",
              "  </thead>\n",
              "  <tbody>\n",
              "    <tr>\n",
              "      <th>0</th>\n",
              "      <td>11-1011.00</td>\n",
              "      <td>determinan formulan poli­ticas  ocupan  direcc...</td>\n",
              "    </tr>\n",
              "    <tr>\n",
              "      <th>1</th>\n",
              "      <td>11-1011.01</td>\n",
              "      <td>determinan formulan ordenanzas publicas ademas...</td>\n",
              "    </tr>\n",
              "    <tr>\n",
              "      <th>2</th>\n",
              "      <td>11-1011.02</td>\n",
              "      <td>determinan formulan reglamentos estrategias  e...</td>\n",
              "    </tr>\n",
              "    <tr>\n",
              "      <th>3</th>\n",
              "      <td>11-1021.00</td>\n",
              "      <td>planifican dirigen coordinan operaciones compa...</td>\n",
              "    </tr>\n",
              "    <tr>\n",
              "      <th>4</th>\n",
              "      <td>11-1031.00</td>\n",
              "      <td>redactan leyes estatutos  niveles federal esta...</td>\n",
              "    </tr>\n",
              "  </tbody>\n",
              "</table>\n",
              "</div>"
            ],
            "text/plain": [
              "       codigo                                       descripcion5\n",
              "0  11-1011.00  determinan formulan poli­ticas  ocupan  direcc...\n",
              "1  11-1011.01  determinan formulan ordenanzas publicas ademas...\n",
              "2  11-1011.02  determinan formulan reglamentos estrategias  e...\n",
              "3  11-1021.00  planifican dirigen coordinan operaciones compa...\n",
              "4  11-1031.00  redactan leyes estatutos  niveles federal esta..."
            ]
          },
          "metadata": {
            "tags": []
          },
          "execution_count": 33
        }
      ]
    }
  ]
}